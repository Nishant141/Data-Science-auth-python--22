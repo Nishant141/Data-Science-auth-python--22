{
  "nbformat": 4,
  "nbformat_minor": 0,
  "metadata": {
    "colab": {
      "provenance": [],
      "authorship_tag": "ABX9TyNP4EaTRIFP5hvZLHYXFv7a",
      "include_colab_link": true
    },
    "kernelspec": {
      "name": "python3",
      "display_name": "Python 3"
    },
    "language_info": {
      "name": "python"
    }
  },
  "cells": [
    {
      "cell_type": "markdown",
      "metadata": {
        "id": "view-in-github",
        "colab_type": "text"
      },
      "source": [
        "<a href=\"https://colab.research.google.com/github/Nishant141/Data-Science-auth-python--22/blob/main/Keras_Syntax_Basics.ipynb\" target=\"_parent\"><img src=\"https://colab.research.google.com/assets/colab-badge.svg\" alt=\"Open In Colab\"/></a>"
      ]
    },
    {
      "cell_type": "code",
      "execution_count": null,
      "metadata": {
        "id": "NIhgYZuL2ayE"
      },
      "outputs": [],
      "source": [
        "#Imports\n",
        "import pandas as pd\n",
        "import numpy as np\n",
        "import seaborn as sns"
      ]
    },
    {
      "cell_type": "code",
      "source": [
        "df = pd.read_csv('/content/fake_reg.txt')\n",
        "df.head()"
      ],
      "metadata": {
        "colab": {
          "base_uri": "https://localhost:8080/",
          "height": 206
        },
        "id": "UxZ5n3BsiSMN",
        "outputId": "9076f124-55eb-4199-a30a-eb1eac53615a"
      },
      "execution_count": null,
      "outputs": [
        {
          "output_type": "execute_result",
          "data": {
            "text/plain": [
              "        price     feature1     feature2\n",
              "0  461.527929   999.787558   999.766096\n",
              "1  548.130011   998.861615  1001.042403\n",
              "2  410.297162  1000.070267   998.844015\n",
              "3  540.382220   999.952251  1000.440940\n",
              "4  546.024553  1000.446011  1000.338531"
            ],
            "text/html": [
              "\n",
              "\n",
              "  <div id=\"df-c05c09c1-fe8b-402c-8d08-44bf7d670457\">\n",
              "    <div class=\"colab-df-container\">\n",
              "      <div>\n",
              "<style scoped>\n",
              "    .dataframe tbody tr th:only-of-type {\n",
              "        vertical-align: middle;\n",
              "    }\n",
              "\n",
              "    .dataframe tbody tr th {\n",
              "        vertical-align: top;\n",
              "    }\n",
              "\n",
              "    .dataframe thead th {\n",
              "        text-align: right;\n",
              "    }\n",
              "</style>\n",
              "<table border=\"1\" class=\"dataframe\">\n",
              "  <thead>\n",
              "    <tr style=\"text-align: right;\">\n",
              "      <th></th>\n",
              "      <th>price</th>\n",
              "      <th>feature1</th>\n",
              "      <th>feature2</th>\n",
              "    </tr>\n",
              "  </thead>\n",
              "  <tbody>\n",
              "    <tr>\n",
              "      <th>0</th>\n",
              "      <td>461.527929</td>\n",
              "      <td>999.787558</td>\n",
              "      <td>999.766096</td>\n",
              "    </tr>\n",
              "    <tr>\n",
              "      <th>1</th>\n",
              "      <td>548.130011</td>\n",
              "      <td>998.861615</td>\n",
              "      <td>1001.042403</td>\n",
              "    </tr>\n",
              "    <tr>\n",
              "      <th>2</th>\n",
              "      <td>410.297162</td>\n",
              "      <td>1000.070267</td>\n",
              "      <td>998.844015</td>\n",
              "    </tr>\n",
              "    <tr>\n",
              "      <th>3</th>\n",
              "      <td>540.382220</td>\n",
              "      <td>999.952251</td>\n",
              "      <td>1000.440940</td>\n",
              "    </tr>\n",
              "    <tr>\n",
              "      <th>4</th>\n",
              "      <td>546.024553</td>\n",
              "      <td>1000.446011</td>\n",
              "      <td>1000.338531</td>\n",
              "    </tr>\n",
              "  </tbody>\n",
              "</table>\n",
              "</div>\n",
              "      <button class=\"colab-df-convert\" onclick=\"convertToInteractive('df-c05c09c1-fe8b-402c-8d08-44bf7d670457')\"\n",
              "              title=\"Convert this dataframe to an interactive table.\"\n",
              "              style=\"display:none;\">\n",
              "\n",
              "  <svg xmlns=\"http://www.w3.org/2000/svg\" height=\"24px\"viewBox=\"0 0 24 24\"\n",
              "       width=\"24px\">\n",
              "    <path d=\"M0 0h24v24H0V0z\" fill=\"none\"/>\n",
              "    <path d=\"M18.56 5.44l.94 2.06.94-2.06 2.06-.94-2.06-.94-.94-2.06-.94 2.06-2.06.94zm-11 1L8.5 8.5l.94-2.06 2.06-.94-2.06-.94L8.5 2.5l-.94 2.06-2.06.94zm10 10l.94 2.06.94-2.06 2.06-.94-2.06-.94-.94-2.06-.94 2.06-2.06.94z\"/><path d=\"M17.41 7.96l-1.37-1.37c-.4-.4-.92-.59-1.43-.59-.52 0-1.04.2-1.43.59L10.3 9.45l-7.72 7.72c-.78.78-.78 2.05 0 2.83L4 21.41c.39.39.9.59 1.41.59.51 0 1.02-.2 1.41-.59l7.78-7.78 2.81-2.81c.8-.78.8-2.07 0-2.86zM5.41 20L4 18.59l7.72-7.72 1.47 1.35L5.41 20z\"/>\n",
              "  </svg>\n",
              "      </button>\n",
              "\n",
              "\n",
              "\n",
              "    <div id=\"df-0ffe4725-e1de-4419-b4e3-fc0805241deb\">\n",
              "      <button class=\"colab-df-quickchart\" onclick=\"quickchart('df-0ffe4725-e1de-4419-b4e3-fc0805241deb')\"\n",
              "              title=\"Suggest charts.\"\n",
              "              style=\"display:none;\">\n",
              "\n",
              "<svg xmlns=\"http://www.w3.org/2000/svg\" height=\"24px\"viewBox=\"0 0 24 24\"\n",
              "     width=\"24px\">\n",
              "    <g>\n",
              "        <path d=\"M19 3H5c-1.1 0-2 .9-2 2v14c0 1.1.9 2 2 2h14c1.1 0 2-.9 2-2V5c0-1.1-.9-2-2-2zM9 17H7v-7h2v7zm4 0h-2V7h2v10zm4 0h-2v-4h2v4z\"/>\n",
              "    </g>\n",
              "</svg>\n",
              "      </button>\n",
              "    </div>\n",
              "\n",
              "<style>\n",
              "  .colab-df-quickchart {\n",
              "    background-color: #E8F0FE;\n",
              "    border: none;\n",
              "    border-radius: 50%;\n",
              "    cursor: pointer;\n",
              "    display: none;\n",
              "    fill: #1967D2;\n",
              "    height: 32px;\n",
              "    padding: 0 0 0 0;\n",
              "    width: 32px;\n",
              "  }\n",
              "\n",
              "  .colab-df-quickchart:hover {\n",
              "    background-color: #E2EBFA;\n",
              "    box-shadow: 0px 1px 2px rgba(60, 64, 67, 0.3), 0px 1px 3px 1px rgba(60, 64, 67, 0.15);\n",
              "    fill: #174EA6;\n",
              "  }\n",
              "\n",
              "  [theme=dark] .colab-df-quickchart {\n",
              "    background-color: #3B4455;\n",
              "    fill: #D2E3FC;\n",
              "  }\n",
              "\n",
              "  [theme=dark] .colab-df-quickchart:hover {\n",
              "    background-color: #434B5C;\n",
              "    box-shadow: 0px 1px 3px 1px rgba(0, 0, 0, 0.15);\n",
              "    filter: drop-shadow(0px 1px 2px rgba(0, 0, 0, 0.3));\n",
              "    fill: #FFFFFF;\n",
              "  }\n",
              "</style>\n",
              "\n",
              "    <script>\n",
              "      async function quickchart(key) {\n",
              "        const containerElement = document.querySelector('#' + key);\n",
              "        const charts = await google.colab.kernel.invokeFunction(\n",
              "            'suggestCharts', [key], {});\n",
              "      }\n",
              "    </script>\n",
              "\n",
              "      <script>\n",
              "\n",
              "function displayQuickchartButton(domScope) {\n",
              "  let quickchartButtonEl =\n",
              "    domScope.querySelector('#df-0ffe4725-e1de-4419-b4e3-fc0805241deb button.colab-df-quickchart');\n",
              "  quickchartButtonEl.style.display =\n",
              "    google.colab.kernel.accessAllowed ? 'block' : 'none';\n",
              "}\n",
              "\n",
              "        displayQuickchartButton(document);\n",
              "      </script>\n",
              "      <style>\n",
              "    .colab-df-container {\n",
              "      display:flex;\n",
              "      flex-wrap:wrap;\n",
              "      gap: 12px;\n",
              "    }\n",
              "\n",
              "    .colab-df-convert {\n",
              "      background-color: #E8F0FE;\n",
              "      border: none;\n",
              "      border-radius: 50%;\n",
              "      cursor: pointer;\n",
              "      display: none;\n",
              "      fill: #1967D2;\n",
              "      height: 32px;\n",
              "      padding: 0 0 0 0;\n",
              "      width: 32px;\n",
              "    }\n",
              "\n",
              "    .colab-df-convert:hover {\n",
              "      background-color: #E2EBFA;\n",
              "      box-shadow: 0px 1px 2px rgba(60, 64, 67, 0.3), 0px 1px 3px 1px rgba(60, 64, 67, 0.15);\n",
              "      fill: #174EA6;\n",
              "    }\n",
              "\n",
              "    [theme=dark] .colab-df-convert {\n",
              "      background-color: #3B4455;\n",
              "      fill: #D2E3FC;\n",
              "    }\n",
              "\n",
              "    [theme=dark] .colab-df-convert:hover {\n",
              "      background-color: #434B5C;\n",
              "      box-shadow: 0px 1px 3px 1px rgba(0, 0, 0, 0.15);\n",
              "      filter: drop-shadow(0px 1px 2px rgba(0, 0, 0, 0.3));\n",
              "      fill: #FFFFFF;\n",
              "    }\n",
              "  </style>\n",
              "\n",
              "      <script>\n",
              "        const buttonEl =\n",
              "          document.querySelector('#df-c05c09c1-fe8b-402c-8d08-44bf7d670457 button.colab-df-convert');\n",
              "        buttonEl.style.display =\n",
              "          google.colab.kernel.accessAllowed ? 'block' : 'none';\n",
              "\n",
              "        async function convertToInteractive(key) {\n",
              "          const element = document.querySelector('#df-c05c09c1-fe8b-402c-8d08-44bf7d670457');\n",
              "          const dataTable =\n",
              "            await google.colab.kernel.invokeFunction('convertToInteractive',\n",
              "                                                     [key], {});\n",
              "          if (!dataTable) return;\n",
              "\n",
              "          const docLinkHtml = 'Like what you see? Visit the ' +\n",
              "            '<a target=\"_blank\" href=https://colab.research.google.com/notebooks/data_table.ipynb>data table notebook</a>'\n",
              "            + ' to learn more about interactive tables.';\n",
              "          element.innerHTML = '';\n",
              "          dataTable['output_type'] = 'display_data';\n",
              "          await google.colab.output.renderOutput(dataTable, element);\n",
              "          const docLink = document.createElement('div');\n",
              "          docLink.innerHTML = docLinkHtml;\n",
              "          element.appendChild(docLink);\n",
              "        }\n",
              "      </script>\n",
              "    </div>\n",
              "  </div>\n"
            ]
          },
          "metadata": {},
          "execution_count": 62
        }
      ]
    },
    {
      "cell_type": "code",
      "source": [
        "sns.pairplot(df)"
      ],
      "metadata": {
        "colab": {
          "base_uri": "https://localhost:8080/",
          "height": 775
        },
        "id": "Qj3jvsCk0D49",
        "outputId": "4f5e3e87-483e-43ea-f71f-db3fabaf4c52"
      },
      "execution_count": null,
      "outputs": [
        {
          "output_type": "execute_result",
          "data": {
            "text/plain": [
              "<seaborn.axisgrid.PairGrid at 0x7b2fca753bb0>"
            ]
          },
          "metadata": {},
          "execution_count": 63
        },
        {
          "output_type": "display_data",
          "data": {
            "text/plain": [
              "<Figure size 750x750 with 12 Axes>"
            ],
            "image/png": "[encoded data removed]"
          },
          "metadata": {}
        }
      ]
    },
    {
      "cell_type": "code",
      "source": [
        "from sklearn.model_selection import train_test_split"
      ],
      "metadata": {
        "id": "52RJ8ei50VoT"
      },
      "execution_count": null,
      "outputs": []
    },
    {
      "cell_type": "code",
      "source": [
        "#We need .values because it's best to pass in numpy arrays due to how tensorflow works\n",
        "X = df[['feature1', 'feature2']].values\n",
        "y = df['price'].values"
      ],
      "metadata": {
        "id": "LX5zlWCR0c1P"
      },
      "execution_count": null,
      "outputs": []
    },
    {
      "cell_type": "code",
      "source": [
        "X_train, X_test, y_train, y_test = train_test_split(X, y, test_size=0.3, random_state=42)"
      ],
      "metadata": {
        "id": "yKzL1h5r0xRI"
      },
      "execution_count": null,
      "outputs": []
    },
    {
      "cell_type": "code",
      "source": [
        "#Scale data to be between 0 and 1\n",
        "from sklearn.preprocessing import MinMaxScaler\n",
        "\n",
        "scaler = MinMaxScaler()"
      ],
      "metadata": {
        "id": "Vfn3QhgW0397"
      },
      "execution_count": null,
      "outputs": []
    },
    {
      "cell_type": "code",
      "source": [
        "scaler.fit(X_train)"
      ],
      "metadata": {
        "colab": {
          "base_uri": "https://localhost:8080/",
          "height": 74
        },
        "id": "n9xRdsyH08rq",
        "outputId": "a92cab81-a7dc-44e0-a86b-e09726ab2178"
      },
      "execution_count": null,
      "outputs": [
        {
          "output_type": "execute_result",
          "data": {
            "text/plain": [
              "MinMaxScaler()"
            ],
            "text/html": [
              "<style>#sk-container-id-3 {color: black;background-color: white;}#sk-container-id-3 pre{padding: 0;}#sk-container-id-3 div.sk-toggleable {background-color: white;}#sk-container-id-3 label.sk-toggleable__label {cursor: pointer;display: block;width: 100%;margin-bottom: 0;padding: 0.3em;box-sizing: border-box;text-align: center;}#sk-container-id-3 label.sk-toggleable__label-arrow:before {content: \"▸\";float: left;margin-right: 0.25em;color: #696969;}#sk-container-id-3 label.sk-toggleable__label-arrow:hover:before {color: black;}#sk-container-id-3 div.sk-estimator:hover label.sk-toggleable__label-arrow:before {color: black;}#sk-container-id-3 div.sk-toggleable__content {max-height: 0;max-width: 0;overflow: hidden;text-align: left;background-color: #f0f8ff;}#sk-container-id-3 div.sk-toggleable__content pre {margin: 0.2em;color: black;border-radius: 0.25em;background-color: #f0f8ff;}#sk-container-id-3 input.sk-toggleable__control:checked~div.sk-toggleable__content {max-height: 200px;max-width: 100%;overflow: auto;}#sk-container-id-3 input.sk-toggleable__control:checked~label.sk-toggleable__label-arrow:before {content: \"▾\";}#sk-container-id-3 div.sk-estimator input.sk-toggleable__control:checked~label.sk-toggleable__label {background-color: #d4ebff;}#sk-container-id-3 div.sk-label input.sk-toggleable__control:checked~label.sk-toggleable__label {background-color: #d4ebff;}#sk-container-id-3 input.sk-hidden--visually {border: 0;clip: rect(1px 1px 1px 1px);clip: rect(1px, 1px, 1px, 1px);height: 1px;margin: -1px;overflow: hidden;padding: 0;position: absolute;width: 1px;}#sk-container-id-3 div.sk-estimator {font-family: monospace;background-color: #f0f8ff;border: 1px dotted black;border-radius: 0.25em;box-sizing: border-box;margin-bottom: 0.5em;}#sk-container-id-3 div.sk-estimator:hover {background-color: #d4ebff;}#sk-container-id-3 div.sk-parallel-item::after {content: \"\";width: 100%;border-bottom: 1px solid gray;flex-grow: 1;}#sk-container-id-3 div.sk-label:hover label.sk-toggleable__label {background-color: #d4ebff;}#sk-container-id-3 div.sk-serial::before {content: \"\";position: absolute;border-left: 1px solid gray;box-sizing: border-box;top: 0;bottom: 0;left: 50%;z-index: 0;}#sk-container-id-3 div.sk-serial {display: flex;flex-direction: column;align-items: center;background-color: white;padding-right: 0.2em;padding-left: 0.2em;position: relative;}#sk-container-id-3 div.sk-item {position: relative;z-index: 1;}#sk-container-id-3 div.sk-parallel {display: flex;align-items: stretch;justify-content: center;background-color: white;position: relative;}#sk-container-id-3 div.sk-item::before, #sk-container-id-3 div.sk-parallel-item::before {content: \"\";position: absolute;border-left: 1px solid gray;box-sizing: border-box;top: 0;bottom: 0;left: 50%;z-index: -1;}#sk-container-id-3 div.sk-parallel-item {display: flex;flex-direction: column;z-index: 1;position: relative;background-color: white;}#sk-container-id-3 div.sk-parallel-item:first-child::after {align-self: flex-end;width: 50%;}#sk-container-id-3 div.sk-parallel-item:last-child::after {align-self: flex-start;width: 50%;}#sk-container-id-3 div.sk-parallel-item:only-child::after {width: 0;}#sk-container-id-3 div.sk-dashed-wrapped {border: 1px dashed gray;margin: 0 0.4em 0.5em 0.4em;box-sizing: border-box;padding-bottom: 0.4em;background-color: white;}#sk-container-id-3 div.sk-label label {font-family: monospace;font-weight: bold;display: inline-block;line-height: 1.2em;}#sk-container-id-3 div.sk-label-container {text-align: center;}#sk-container-id-3 div.sk-container {/* jupyter's `normalize.less` sets `[hidden] { display: none; }` but bootstrap.min.css set `[hidden] { display: none !important; }` so we also need the `!important` here to be able to override the default hidden behavior on the sphinx rendered scikit-learn.org. See: https://github.com/scikit-learn/scikit-learn/issues/21755 */display: inline-block !important;position: relative;}#sk-container-id-3 div.sk-text-repr-fallback {display: none;}</style><div id=\"sk-container-id-3\" class=\"sk-top-container\"><div class=\"sk-text-repr-fallback\"><pre>MinMaxScaler()</pre><b>In a Jupyter environment, please rerun this cell to show the HTML representation or trust the notebook. <br />On GitHub, the HTML representation is unable to render, please try loading this page with nbviewer.org.</b></div><div class=\"sk-container\" hidden><div class=\"sk-item\"><div class=\"sk-estimator sk-toggleable\"><input class=\"sk-toggleable__control sk-hidden--visually\" id=\"sk-estimator-id-3\" type=\"checkbox\" checked><label for=\"sk-estimator-id-3\" class=\"sk-toggleable__label sk-toggleable__label-arrow\">MinMaxScaler</label><div class=\"sk-toggleable__content\"><pre>MinMaxScaler()</pre></div></div></div></div></div>"
            ]
          },
          "metadata": {},
          "execution_count": 92
        }
      ]
    },
    {
      "cell_type": "code",
      "source": [
        "#Perform transformation\n",
        "X_train = scaler.transform(X_train)\n",
        "X_test = scaler.transform(X_test)"
      ],
      "metadata": {
        "id": "nVQ-f8941ML7"
      },
      "execution_count": null,
      "outputs": []
    },
    {
      "cell_type": "code",
      "source": [
        "from tensorflow.keras.models import Sequential\n",
        "from tensorflow.keras.layers import Dense, Activation"
      ],
      "metadata": {
        "id": "Gt9NYFue1eVK"
      },
      "execution_count": null,
      "outputs": []
    },
    {
      "cell_type": "code",
      "source": [
        "#Add multiple layers into sequential with the number of neurons needed\n",
        "model = Sequential()\n",
        "\n",
        "model.add(Dense(4,activation='relu'))\n",
        "model.add(Dense(4,activation='relu'))\n",
        "model.add(Dense(4,activation='relu'))\n",
        "\n",
        "model.add(Dense(1))\n",
        "\n",
        "model.compile(optimizer='adam',loss='mse')"
      ],
      "metadata": {
        "id": "E2X8Q6pM1iNm"
      },
      "execution_count": null,
      "outputs": []
    },
    {
      "cell_type": "code",
      "source": [
        "model.fit(x=X_train,y=y_train,epochs=400)"
      ],
      "metadata": {
        "colab": {
          "base_uri": "https://localhost:8080/"
        },
        "id": "4n1nNPjy18f_",
        "outputId": "12dbf653-e90f-43a8-ca5b-9e4421ad5339"
      },
      "execution_count": null,
      "outputs": [
        {
          "output_type": "stream",
          "name": "stdout",
          "text": [
            "Epoch 1/400\n",
            "22/22 [==============================] - 1s 3ms/step - loss: 256690.8594\n",
            "Epoch 2/400\n",
            "22/22 [==============================] - 0s 3ms/step - loss: 256620.6875\n",
            "Epoch 3/400\n",
            "22/22 [==============================] - 0s 3ms/step - loss: 256542.7812\n",
            "Epoch 4/400\n",
            "22/22 [==============================] - 0s 3ms/step - loss: 256452.3438\n",
            "Epoch 5/400\n",
            "22/22 [==============================] - 0s 3ms/step - loss: 256345.7344\n",
            "Epoch 6/400\n",
            "22/22 [==============================] - 0s 3ms/step - loss: 256218.8594\n",
            "Epoch 7/400\n",
            "22/22 [==============================] - 0s 3ms/step - loss: 256067.4219\n",
            "Epoch 8/400\n",
            "22/22 [==============================] - 0s 3ms/step - loss: 255887.0469\n",
            "Epoch 9/400\n",
            "22/22 [==============================] - 0s 2ms/step - loss: 255672.0156\n",
            "Epoch 10/400\n",
            "22/22 [==============================] - 0s 3ms/step - loss: 255415.3906\n",
            "Epoch 11/400\n",
            "22/22 [==============================] - 0s 2ms/step - loss: 255103.5156\n",
            "Epoch 12/400\n",
            "22/22 [==============================] - 0s 4ms/step - loss: 254705.0938\n",
            "Epoch 13/400\n",
            "22/22 [==============================] - 0s 2ms/step - loss: 254207.3125\n",
            "Epoch 14/400\n",
            "22/22 [==============================] - 0s 3ms/step - loss: 253594.1875\n",
            "Epoch 15/400\n",
            "22/22 [==============================] - 0s 4ms/step - loss: 252849.5469\n",
            "Epoch 16/400\n",
            "22/22 [==============================] - 0s 4ms/step - loss: 251966.0781\n",
            "Epoch 17/400\n",
            "22/22 [==============================] - 0s 3ms/step - loss: 250914.9688\n",
            "Epoch 18/400\n",
            "22/22 [==============================] - 0s 3ms/step - loss: 249687.0000\n",
            "Epoch 19/400\n",
            "22/22 [==============================] - 0s 3ms/step - loss: 248256.2969\n",
            "Epoch 20/400\n",
            "22/22 [==============================] - 0s 3ms/step - loss: 246607.9531\n",
            "Epoch 21/400\n",
            "22/22 [==============================] - 0s 3ms/step - loss: 244718.1719\n",
            "Epoch 22/400\n",
            "22/22 [==============================] - 0s 3ms/step - loss: 242573.4375\n",
            "Epoch 23/400\n",
            "22/22 [==============================] - 0s 3ms/step - loss: 240151.5156\n",
            "Epoch 24/400\n",
            "22/22 [==============================] - 0s 2ms/step - loss: 237447.7969\n",
            "Epoch 25/400\n",
            "22/22 [==============================] - 0s 2ms/step - loss: 234420.1406\n",
            "Epoch 26/400\n",
            "22/22 [==============================] - 0s 2ms/step - loss: 231081.1250\n",
            "Epoch 27/400\n",
            "22/22 [==============================] - 0s 2ms/step - loss: 227392.0156\n",
            "Epoch 28/400\n",
            "22/22 [==============================] - 0s 2ms/step - loss: 223357.1250\n",
            "Epoch 29/400\n",
            "22/22 [==============================] - 0s 2ms/step - loss: 218956.6562\n",
            "Epoch 30/400\n",
            "22/22 [==============================] - 0s 2ms/step - loss: 214207.8125\n",
            "Epoch 31/400\n",
            "22/22 [==============================] - 0s 2ms/step - loss: 209076.2344\n",
            "Epoch 32/400\n",
            "22/22 [==============================] - 0s 2ms/step - loss: 203607.7500\n",
            "Epoch 33/400\n",
            "22/22 [==============================] - 0s 2ms/step - loss: 197705.4375\n",
            "Epoch 34/400\n",
            "22/22 [==============================] - 0s 2ms/step - loss: 191519.5156\n",
            "Epoch 35/400\n",
            "22/22 [==============================] - 0s 2ms/step - loss: 184949.7188\n",
            "Epoch 36/400\n",
            "22/22 [==============================] - 0s 2ms/step - loss: 178049.5312\n",
            "Epoch 37/400\n",
            "22/22 [==============================] - 0s 2ms/step - loss: 170871.5781\n",
            "Epoch 38/400\n",
            "22/22 [==============================] - 0s 2ms/step - loss: 163398.5469\n",
            "Epoch 39/400\n",
            "22/22 [==============================] - 0s 2ms/step - loss: 155674.6562\n",
            "Epoch 40/400\n",
            "22/22 [==============================] - 0s 2ms/step - loss: 147723.0000\n",
            "Epoch 41/400\n",
            "22/22 [==============================] - 0s 2ms/step - loss: 139592.4062\n",
            "Epoch 42/400\n",
            "22/22 [==============================] - 0s 2ms/step - loss: 131376.0000\n",
            "Epoch 43/400\n",
            "22/22 [==============================] - 0s 2ms/step - loss: 123034.1250\n",
            "Epoch 44/400\n",
            "22/22 [==============================] - 0s 2ms/step - loss: 114639.5547\n",
            "Epoch 45/400\n",
            "22/22 [==============================] - 0s 2ms/step - loss: 106299.2891\n",
            "Epoch 46/400\n",
            "22/22 [==============================] - 0s 2ms/step - loss: 98021.7266\n",
            "Epoch 47/400\n",
            "22/22 [==============================] - 0s 2ms/step - loss: 89897.6953\n",
            "Epoch 48/400\n",
            "22/22 [==============================] - 0s 2ms/step - loss: 81920.5391\n",
            "Epoch 49/400\n",
            "22/22 [==============================] - 0s 2ms/step - loss: 74189.4766\n",
            "Epoch 50/400\n",
            "22/22 [==============================] - 0s 2ms/step - loss: 66772.4766\n",
            "Epoch 51/400\n",
            "22/22 [==============================] - 0s 2ms/step - loss: 59678.7148\n",
            "Epoch 52/400\n",
            "22/22 [==============================] - 0s 2ms/step - loss: 52978.8398\n",
            "Epoch 53/400\n",
            "22/22 [==============================] - 0s 2ms/step - loss: 46685.4414\n",
            "Epoch 54/400\n",
            "22/22 [==============================] - 0s 2ms/step - loss: 40874.4102\n",
            "Epoch 55/400\n",
            "22/22 [==============================] - 0s 2ms/step - loss: 35496.6445\n",
            "Epoch 56/400\n",
            "22/22 [==============================] - 0s 2ms/step - loss: 30617.1230\n",
            "Epoch 57/400\n",
            "22/22 [==============================] - 0s 2ms/step - loss: 26215.0176\n",
            "Epoch 58/400\n",
            "22/22 [==============================] - 0s 2ms/step - loss: 22327.1289\n",
            "Epoch 59/400\n",
            "22/22 [==============================] - 0s 2ms/step - loss: 18905.5039\n",
            "Epoch 60/400\n",
            "22/22 [==============================] - 0s 2ms/step - loss: 15903.0215\n",
            "Epoch 61/400\n",
            "22/22 [==============================] - 0s 2ms/step - loss: 13372.7119\n",
            "Epoch 62/400\n",
            "22/22 [==============================] - 0s 2ms/step - loss: 11193.7783\n",
            "Epoch 63/400\n",
            "22/22 [==============================] - 0s 2ms/step - loss: 9404.0840\n",
            "Epoch 64/400\n",
            "22/22 [==============================] - 0s 2ms/step - loss: 7907.0879\n",
            "Epoch 65/400\n",
            "22/22 [==============================] - 0s 2ms/step - loss: 6688.2778\n",
            "Epoch 66/400\n",
            "22/22 [==============================] - 0s 2ms/step - loss: 5727.1255\n",
            "Epoch 67/400\n",
            "22/22 [==============================] - 0s 2ms/step - loss: 4947.5356\n",
            "Epoch 68/400\n",
            "22/22 [==============================] - 0s 2ms/step - loss: 4346.3799\n",
            "Epoch 69/400\n",
            "22/22 [==============================] - 0s 2ms/step - loss: 3877.9604\n",
            "Epoch 70/400\n",
            "22/22 [==============================] - 0s 2ms/step - loss: 3517.6418\n",
            "Epoch 71/400\n",
            "22/22 [==============================] - 0s 2ms/step - loss: 3253.0522\n",
            "Epoch 72/400\n",
            "22/22 [==============================] - 0s 2ms/step - loss: 3043.8142\n",
            "Epoch 73/400\n",
            "22/22 [==============================] - 0s 2ms/step - loss: 2900.2078\n",
            "Epoch 74/400\n",
            "22/22 [==============================] - 0s 2ms/step - loss: 2787.0398\n",
            "Epoch 75/400\n",
            "22/22 [==============================] - 0s 2ms/step - loss: 2704.9060\n",
            "Epoch 76/400\n",
            "22/22 [==============================] - 0s 2ms/step - loss: 2646.3611\n",
            "Epoch 77/400\n",
            "22/22 [==============================] - 0s 2ms/step - loss: 2603.5366\n",
            "Epoch 78/400\n",
            "22/22 [==============================] - 0s 2ms/step - loss: 2572.7888\n",
            "Epoch 79/400\n",
            "22/22 [==============================] - 0s 2ms/step - loss: 2548.2898\n",
            "Epoch 80/400\n",
            "22/22 [==============================] - 0s 2ms/step - loss: 2531.7383\n",
            "Epoch 81/400\n",
            "22/22 [==============================] - 0s 2ms/step - loss: 2517.6907\n",
            "Epoch 82/400\n",
            "22/22 [==============================] - 0s 2ms/step - loss: 2507.0938\n",
            "Epoch 83/400\n",
            "22/22 [==============================] - 0s 2ms/step - loss: 2498.2053\n",
            "Epoch 84/400\n",
            "22/22 [==============================] - 0s 2ms/step - loss: 2492.3123\n",
            "Epoch 85/400\n",
            "22/22 [==============================] - 0s 2ms/step - loss: 2484.3567\n",
            "Epoch 86/400\n",
            "22/22 [==============================] - 0s 2ms/step - loss: 2478.4900\n",
            "Epoch 87/400\n",
            "22/22 [==============================] - 0s 2ms/step - loss: 2472.6946\n",
            "Epoch 88/400\n",
            "22/22 [==============================] - 0s 2ms/step - loss: 2467.8120\n",
            "Epoch 89/400\n",
            "22/22 [==============================] - 0s 2ms/step - loss: 2462.2988\n",
            "Epoch 90/400\n",
            "22/22 [==============================] - 0s 2ms/step - loss: 2457.2324\n",
            "Epoch 91/400\n",
            "22/22 [==============================] - 0s 2ms/step - loss: 2451.8521\n",
            "Epoch 92/400\n",
            "22/22 [==============================] - 0s 2ms/step - loss: 2447.2581\n",
            "Epoch 93/400\n",
            "22/22 [==============================] - 0s 2ms/step - loss: 2441.3679\n",
            "Epoch 94/400\n",
            "22/22 [==============================] - 0s 2ms/step - loss: 2437.2683\n",
            "Epoch 95/400\n",
            "22/22 [==============================] - 0s 2ms/step - loss: 2430.9763\n",
            "Epoch 96/400\n",
            "22/22 [==============================] - 0s 2ms/step - loss: 2425.9651\n",
            "Epoch 97/400\n",
            "22/22 [==============================] - 0s 2ms/step - loss: 2420.6243\n",
            "Epoch 98/400\n",
            "22/22 [==============================] - 0s 2ms/step - loss: 2415.0403\n",
            "Epoch 99/400\n",
            "22/22 [==============================] - 0s 2ms/step - loss: 2411.3347\n",
            "Epoch 100/400\n",
            "22/22 [==============================] - 0s 2ms/step - loss: 2404.2070\n",
            "Epoch 101/400\n",
            "22/22 [==============================] - 0s 2ms/step - loss: 2398.5942\n",
            "Epoch 102/400\n",
            "22/22 [==============================] - 0s 2ms/step - loss: 2393.2981\n",
            "Epoch 103/400\n",
            "22/22 [==============================] - 0s 2ms/step - loss: 2387.3611\n",
            "Epoch 104/400\n",
            "22/22 [==============================] - 0s 2ms/step - loss: 2381.8728\n",
            "Epoch 105/400\n",
            "22/22 [==============================] - 0s 2ms/step - loss: 2376.0962\n",
            "Epoch 106/400\n",
            "22/22 [==============================] - 0s 2ms/step - loss: 2370.1304\n",
            "Epoch 107/400\n",
            "22/22 [==============================] - 0s 2ms/step - loss: 2364.5771\n",
            "Epoch 108/400\n",
            "22/22 [==============================] - 0s 2ms/step - loss: 2358.5173\n",
            "Epoch 109/400\n",
            "22/22 [==============================] - 0s 2ms/step - loss: 2353.1790\n",
            "Epoch 110/400\n",
            "22/22 [==============================] - 0s 2ms/step - loss: 2346.3428\n",
            "Epoch 111/400\n",
            "22/22 [==============================] - 0s 3ms/step - loss: 2340.5825\n",
            "Epoch 112/400\n",
            "22/22 [==============================] - 0s 2ms/step - loss: 2334.4287\n",
            "Epoch 113/400\n",
            "22/22 [==============================] - 0s 3ms/step - loss: 2328.0989\n",
            "Epoch 114/400\n",
            "22/22 [==============================] - 0s 3ms/step - loss: 2321.7373\n",
            "Epoch 115/400\n",
            "22/22 [==============================] - 0s 2ms/step - loss: 2315.8774\n",
            "Epoch 116/400\n",
            "22/22 [==============================] - 0s 2ms/step - loss: 2309.7578\n",
            "Epoch 117/400\n",
            "22/22 [==============================] - 0s 2ms/step - loss: 2302.9910\n",
            "Epoch 118/400\n",
            "22/22 [==============================] - 0s 2ms/step - loss: 2297.0396\n",
            "Epoch 119/400\n",
            "22/22 [==============================] - 0s 2ms/step - loss: 2290.0457\n",
            "Epoch 120/400\n",
            "22/22 [==============================] - 0s 3ms/step - loss: 2283.4270\n",
            "Epoch 121/400\n",
            "22/22 [==============================] - 0s 2ms/step - loss: 2277.0969\n",
            "Epoch 122/400\n",
            "22/22 [==============================] - 0s 2ms/step - loss: 2269.9863\n",
            "Epoch 123/400\n",
            "22/22 [==============================] - 0s 2ms/step - loss: 2264.3633\n",
            "Epoch 124/400\n",
            "22/22 [==============================] - 0s 2ms/step - loss: 2257.0601\n",
            "Epoch 125/400\n",
            "22/22 [==============================] - 0s 2ms/step - loss: 2251.1687\n",
            "Epoch 126/400\n",
            "22/22 [==============================] - 0s 2ms/step - loss: 2243.3291\n",
            "Epoch 127/400\n",
            "22/22 [==============================] - 0s 2ms/step - loss: 2236.4946\n",
            "Epoch 128/400\n",
            "22/22 [==============================] - 0s 2ms/step - loss: 2229.4866\n",
            "Epoch 129/400\n",
            "22/22 [==============================] - 0s 2ms/step - loss: 2222.2234\n",
            "Epoch 130/400\n",
            "22/22 [==============================] - 0s 2ms/step - loss: 2215.4812\n",
            "Epoch 131/400\n",
            "22/22 [==============================] - 0s 2ms/step - loss: 2208.2485\n",
            "Epoch 132/400\n",
            "22/22 [==============================] - 0s 2ms/step - loss: 2201.0862\n",
            "Epoch 133/400\n",
            "22/22 [==============================] - 0s 2ms/step - loss: 2193.5442\n",
            "Epoch 134/400\n",
            "22/22 [==============================] - 0s 2ms/step - loss: 2186.6414\n",
            "Epoch 135/400\n",
            "22/22 [==============================] - 0s 2ms/step - loss: 2179.0632\n",
            "Epoch 136/400\n",
            "22/22 [==============================] - 0s 2ms/step - loss: 2171.7749\n",
            "Epoch 137/400\n",
            "22/22 [==============================] - 0s 2ms/step - loss: 2164.3147\n",
            "Epoch 138/400\n",
            "22/22 [==============================] - 0s 2ms/step - loss: 2156.8801\n",
            "Epoch 139/400\n",
            "22/22 [==============================] - 0s 2ms/step - loss: 2149.7251\n",
            "Epoch 140/400\n",
            "22/22 [==============================] - 0s 2ms/step - loss: 2143.2849\n",
            "Epoch 141/400\n",
            "22/22 [==============================] - 0s 2ms/step - loss: 2134.1062\n",
            "Epoch 142/400\n",
            "22/22 [==============================] - 0s 2ms/step - loss: 2126.4846\n",
            "Epoch 143/400\n",
            "22/22 [==============================] - 0s 2ms/step - loss: 2118.5110\n",
            "Epoch 144/400\n",
            "22/22 [==============================] - 0s 2ms/step - loss: 2110.6560\n",
            "Epoch 145/400\n",
            "22/22 [==============================] - 0s 2ms/step - loss: 2103.3269\n",
            "Epoch 146/400\n",
            "22/22 [==============================] - 0s 2ms/step - loss: 2094.8740\n",
            "Epoch 147/400\n",
            "22/22 [==============================] - 0s 2ms/step - loss: 2087.1907\n",
            "Epoch 148/400\n",
            "22/22 [==============================] - 0s 2ms/step - loss: 2079.0645\n",
            "Epoch 149/400\n",
            "22/22 [==============================] - 0s 2ms/step - loss: 2072.4092\n",
            "Epoch 150/400\n",
            "22/22 [==============================] - 0s 3ms/step - loss: 2063.6587\n",
            "Epoch 151/400\n",
            "22/22 [==============================] - 0s 2ms/step - loss: 2054.5210\n",
            "Epoch 152/400\n",
            "22/22 [==============================] - 0s 2ms/step - loss: 2046.2288\n",
            "Epoch 153/400\n",
            "22/22 [==============================] - 0s 2ms/step - loss: 2038.2612\n",
            "Epoch 154/400\n",
            "22/22 [==============================] - 0s 2ms/step - loss: 2029.5336\n",
            "Epoch 155/400\n",
            "22/22 [==============================] - 0s 3ms/step - loss: 2022.6454\n",
            "Epoch 156/400\n",
            "22/22 [==============================] - 0s 2ms/step - loss: 2012.7740\n",
            "Epoch 157/400\n",
            "22/22 [==============================] - 0s 2ms/step - loss: 2004.9089\n",
            "Epoch 158/400\n",
            "22/22 [==============================] - 0s 2ms/step - loss: 1996.3834\n",
            "Epoch 159/400\n",
            "22/22 [==============================] - 0s 3ms/step - loss: 1987.2893\n",
            "Epoch 160/400\n",
            "22/22 [==============================] - 0s 2ms/step - loss: 1978.6058\n",
            "Epoch 161/400\n",
            "22/22 [==============================] - 0s 2ms/step - loss: 1970.8982\n",
            "Epoch 162/400\n",
            "22/22 [==============================] - 0s 2ms/step - loss: 1961.0455\n",
            "Epoch 163/400\n",
            "22/22 [==============================] - 0s 4ms/step - loss: 1952.1782\n",
            "Epoch 164/400\n",
            "22/22 [==============================] - 0s 4ms/step - loss: 1943.9011\n",
            "Epoch 165/400\n",
            "22/22 [==============================] - 0s 4ms/step - loss: 1934.6211\n",
            "Epoch 166/400\n",
            "22/22 [==============================] - 0s 4ms/step - loss: 1926.1324\n",
            "Epoch 167/400\n",
            "22/22 [==============================] - 0s 2ms/step - loss: 1917.2084\n",
            "Epoch 168/400\n",
            "22/22 [==============================] - 0s 2ms/step - loss: 1907.6515\n",
            "Epoch 169/400\n",
            "22/22 [==============================] - 0s 3ms/step - loss: 1899.2979\n",
            "Epoch 170/400\n",
            "22/22 [==============================] - 0s 6ms/step - loss: 1889.8203\n",
            "Epoch 171/400\n",
            "22/22 [==============================] - 0s 4ms/step - loss: 1880.1670\n",
            "Epoch 172/400\n",
            "22/22 [==============================] - 0s 5ms/step - loss: 1871.1091\n",
            "Epoch 173/400\n",
            "22/22 [==============================] - 0s 4ms/step - loss: 1861.7546\n",
            "Epoch 174/400\n",
            "22/22 [==============================] - 0s 5ms/step - loss: 1852.8589\n",
            "Epoch 175/400\n",
            "22/22 [==============================] - 0s 4ms/step - loss: 1843.5428\n",
            "Epoch 176/400\n",
            "22/22 [==============================] - 0s 4ms/step - loss: 1834.3757\n",
            "Epoch 177/400\n",
            "22/22 [==============================] - 0s 5ms/step - loss: 1824.9811\n",
            "Epoch 178/400\n",
            "22/22 [==============================] - 0s 5ms/step - loss: 1814.9329\n",
            "Epoch 179/400\n",
            "22/22 [==============================] - 0s 4ms/step - loss: 1805.1980\n",
            "Epoch 180/400\n",
            "22/22 [==============================] - 0s 6ms/step - loss: 1796.8376\n",
            "Epoch 181/400\n",
            "22/22 [==============================] - 0s 7ms/step - loss: 1786.7573\n",
            "Epoch 182/400\n",
            "22/22 [==============================] - 0s 4ms/step - loss: 1777.7910\n",
            "Epoch 183/400\n",
            "22/22 [==============================] - 0s 2ms/step - loss: 1766.7126\n",
            "Epoch 184/400\n",
            "22/22 [==============================] - 0s 2ms/step - loss: 1756.6918\n",
            "Epoch 185/400\n",
            "22/22 [==============================] - 0s 2ms/step - loss: 1747.5410\n",
            "Epoch 186/400\n",
            "22/22 [==============================] - 0s 2ms/step - loss: 1737.3263\n",
            "Epoch 187/400\n",
            "22/22 [==============================] - 0s 2ms/step - loss: 1727.1956\n",
            "Epoch 188/400\n",
            "22/22 [==============================] - 0s 2ms/step - loss: 1719.1558\n",
            "Epoch 189/400\n",
            "22/22 [==============================] - 0s 2ms/step - loss: 1707.8580\n",
            "Epoch 190/400\n",
            "22/22 [==============================] - 0s 3ms/step - loss: 1697.4679\n",
            "Epoch 191/400\n",
            "22/22 [==============================] - 0s 4ms/step - loss: 1688.3246\n",
            "Epoch 192/400\n",
            "22/22 [==============================] - 0s 3ms/step - loss: 1678.1914\n",
            "Epoch 193/400\n",
            "22/22 [==============================] - 0s 4ms/step - loss: 1667.8800\n",
            "Epoch 194/400\n",
            "22/22 [==============================] - 0s 4ms/step - loss: 1657.0984\n",
            "Epoch 195/400\n",
            "22/22 [==============================] - 0s 4ms/step - loss: 1647.6794\n",
            "Epoch 196/400\n",
            "22/22 [==============================] - 0s 3ms/step - loss: 1637.3141\n",
            "Epoch 197/400\n",
            "22/22 [==============================] - 0s 4ms/step - loss: 1626.9591\n",
            "Epoch 198/400\n",
            "22/22 [==============================] - 0s 3ms/step - loss: 1617.3114\n",
            "Epoch 199/400\n",
            "22/22 [==============================] - 0s 4ms/step - loss: 1606.0266\n",
            "Epoch 200/400\n",
            "22/22 [==============================] - 0s 3ms/step - loss: 1596.1232\n",
            "Epoch 201/400\n",
            "22/22 [==============================] - 0s 3ms/step - loss: 1588.9607\n",
            "Epoch 202/400\n",
            "22/22 [==============================] - 0s 3ms/step - loss: 1574.7578\n",
            "Epoch 203/400\n",
            "22/22 [==============================] - 0s 4ms/step - loss: 1564.8762\n",
            "Epoch 204/400\n",
            "22/22 [==============================] - 0s 3ms/step - loss: 1554.0559\n",
            "Epoch 205/400\n",
            "22/22 [==============================] - 0s 4ms/step - loss: 1543.9532\n",
            "Epoch 206/400\n",
            "22/22 [==============================] - 0s 3ms/step - loss: 1532.7427\n",
            "Epoch 207/400\n",
            "22/22 [==============================] - 0s 3ms/step - loss: 1522.9633\n",
            "Epoch 208/400\n",
            "22/22 [==============================] - 0s 3ms/step - loss: 1512.3116\n",
            "Epoch 209/400\n",
            "22/22 [==============================] - 0s 3ms/step - loss: 1501.9966\n",
            "Epoch 210/400\n",
            "22/22 [==============================] - 0s 3ms/step - loss: 1490.5330\n",
            "Epoch 211/400\n",
            "22/22 [==============================] - 0s 4ms/step - loss: 1481.2528\n",
            "Epoch 212/400\n",
            "22/22 [==============================] - 0s 3ms/step - loss: 1469.2886\n",
            "Epoch 213/400\n",
            "22/22 [==============================] - 0s 4ms/step - loss: 1458.8152\n",
            "Epoch 214/400\n",
            "22/22 [==============================] - 0s 3ms/step - loss: 1447.8674\n",
            "Epoch 215/400\n",
            "22/22 [==============================] - 0s 3ms/step - loss: 1437.4344\n",
            "Epoch 216/400\n",
            "22/22 [==============================] - 0s 3ms/step - loss: 1426.0450\n",
            "Epoch 217/400\n",
            "22/22 [==============================] - 0s 2ms/step - loss: 1415.4542\n",
            "Epoch 218/400\n",
            "22/22 [==============================] - 0s 3ms/step - loss: 1404.7893\n",
            "Epoch 219/400\n",
            "22/22 [==============================] - 0s 3ms/step - loss: 1393.6361\n",
            "Epoch 220/400\n",
            "22/22 [==============================] - 0s 4ms/step - loss: 1383.0833\n",
            "Epoch 221/400\n",
            "22/22 [==============================] - 0s 4ms/step - loss: 1372.4944\n",
            "Epoch 222/400\n",
            "22/22 [==============================] - 0s 3ms/step - loss: 1361.1097\n",
            "Epoch 223/400\n",
            "22/22 [==============================] - 0s 3ms/step - loss: 1351.4926\n",
            "Epoch 224/400\n",
            "22/22 [==============================] - 0s 3ms/step - loss: 1339.4174\n",
            "Epoch 225/400\n",
            "22/22 [==============================] - 0s 3ms/step - loss: 1328.7281\n",
            "Epoch 226/400\n",
            "22/22 [==============================] - 0s 5ms/step - loss: 1317.0574\n",
            "Epoch 227/400\n",
            "22/22 [==============================] - 0s 4ms/step - loss: 1306.2897\n",
            "Epoch 228/400\n",
            "22/22 [==============================] - 0s 4ms/step - loss: 1295.0620\n",
            "Epoch 229/400\n",
            "22/22 [==============================] - 0s 4ms/step - loss: 1284.7991\n",
            "Epoch 230/400\n",
            "22/22 [==============================] - 0s 4ms/step - loss: 1273.3500\n",
            "Epoch 231/400\n",
            "22/22 [==============================] - 0s 3ms/step - loss: 1262.5311\n",
            "Epoch 232/400\n",
            "22/22 [==============================] - 0s 3ms/step - loss: 1252.6106\n",
            "Epoch 233/400\n",
            "22/22 [==============================] - 0s 3ms/step - loss: 1240.1274\n",
            "Epoch 234/400\n",
            "22/22 [==============================] - 0s 3ms/step - loss: 1229.5712\n",
            "Epoch 235/400\n",
            "22/22 [==============================] - 0s 3ms/step - loss: 1218.0176\n",
            "Epoch 236/400\n",
            "22/22 [==============================] - 0s 3ms/step - loss: 1207.0591\n",
            "Epoch 237/400\n",
            "22/22 [==============================] - 0s 3ms/step - loss: 1196.9535\n",
            "Epoch 238/400\n",
            "22/22 [==============================] - 0s 2ms/step - loss: 1185.9034\n",
            "Epoch 239/400\n",
            "22/22 [==============================] - 0s 2ms/step - loss: 1174.1783\n",
            "Epoch 240/400\n",
            "22/22 [==============================] - 0s 3ms/step - loss: 1162.8733\n",
            "Epoch 241/400\n",
            "22/22 [==============================] - 0s 2ms/step - loss: 1152.4836\n",
            "Epoch 242/400\n",
            "22/22 [==============================] - 0s 2ms/step - loss: 1141.1744\n",
            "Epoch 243/400\n",
            "22/22 [==============================] - 0s 2ms/step - loss: 1129.7383\n",
            "Epoch 244/400\n",
            "22/22 [==============================] - 0s 2ms/step - loss: 1118.6906\n",
            "Epoch 245/400\n",
            "22/22 [==============================] - 0s 2ms/step - loss: 1107.3616\n",
            "Epoch 246/400\n",
            "22/22 [==============================] - 0s 2ms/step - loss: 1096.8723\n",
            "Epoch 247/400\n",
            "22/22 [==============================] - 0s 2ms/step - loss: 1085.3248\n",
            "Epoch 248/400\n",
            "22/22 [==============================] - 0s 2ms/step - loss: 1074.2557\n",
            "Epoch 249/400\n",
            "22/22 [==============================] - 0s 2ms/step - loss: 1065.3965\n",
            "Epoch 250/400\n",
            "22/22 [==============================] - 0s 2ms/step - loss: 1052.5520\n",
            "Epoch 251/400\n",
            "22/22 [==============================] - 0s 2ms/step - loss: 1041.6683\n",
            "Epoch 252/400\n",
            "22/22 [==============================] - 0s 2ms/step - loss: 1030.3405\n",
            "Epoch 253/400\n",
            "22/22 [==============================] - 0s 2ms/step - loss: 1019.1042\n",
            "Epoch 254/400\n",
            "22/22 [==============================] - 0s 3ms/step - loss: 1009.5064\n",
            "Epoch 255/400\n",
            "22/22 [==============================] - 0s 2ms/step - loss: 998.2144\n",
            "Epoch 256/400\n",
            "22/22 [==============================] - 0s 3ms/step - loss: 987.5947\n",
            "Epoch 257/400\n",
            "22/22 [==============================] - 0s 2ms/step - loss: 977.1390\n",
            "Epoch 258/400\n",
            "22/22 [==============================] - 0s 3ms/step - loss: 965.7456\n",
            "Epoch 259/400\n",
            "22/22 [==============================] - 0s 2ms/step - loss: 953.7997\n",
            "Epoch 260/400\n",
            "22/22 [==============================] - 0s 2ms/step - loss: 943.5934\n",
            "Epoch 261/400\n",
            "22/22 [==============================] - 0s 2ms/step - loss: 932.0878\n",
            "Epoch 262/400\n",
            "22/22 [==============================] - 0s 2ms/step - loss: 921.9498\n",
            "Epoch 263/400\n",
            "22/22 [==============================] - 0s 2ms/step - loss: 910.4952\n",
            "Epoch 264/400\n",
            "22/22 [==============================] - 0s 2ms/step - loss: 899.7761\n",
            "Epoch 265/400\n",
            "22/22 [==============================] - 0s 2ms/step - loss: 890.5760\n",
            "Epoch 266/400\n",
            "22/22 [==============================] - 0s 2ms/step - loss: 878.7948\n",
            "Epoch 267/400\n",
            "22/22 [==============================] - 0s 2ms/step - loss: 869.2677\n",
            "Epoch 268/400\n",
            "22/22 [==============================] - 0s 2ms/step - loss: 858.0940\n",
            "Epoch 269/400\n",
            "22/22 [==============================] - 0s 2ms/step - loss: 846.8721\n",
            "Epoch 270/400\n",
            "22/22 [==============================] - 0s 2ms/step - loss: 835.7963\n",
            "Epoch 271/400\n",
            "22/22 [==============================] - 0s 3ms/step - loss: 826.3530\n",
            "Epoch 272/400\n",
            "22/22 [==============================] - 0s 3ms/step - loss: 814.6736\n",
            "Epoch 273/400\n",
            "22/22 [==============================] - 0s 2ms/step - loss: 804.1736\n",
            "Epoch 274/400\n",
            "22/22 [==============================] - 0s 2ms/step - loss: 795.2689\n",
            "Epoch 275/400\n",
            "22/22 [==============================] - 0s 2ms/step - loss: 784.6246\n",
            "Epoch 276/400\n",
            "22/22 [==============================] - 0s 2ms/step - loss: 772.7637\n",
            "Epoch 277/400\n",
            "22/22 [==============================] - 0s 2ms/step - loss: 763.0659\n",
            "Epoch 278/400\n",
            "22/22 [==============================] - 0s 2ms/step - loss: 753.3498\n",
            "Epoch 279/400\n",
            "22/22 [==============================] - 0s 2ms/step - loss: 742.7955\n",
            "Epoch 280/400\n",
            "22/22 [==============================] - 0s 2ms/step - loss: 731.9304\n",
            "Epoch 281/400\n",
            "22/22 [==============================] - 0s 2ms/step - loss: 722.2114\n",
            "Epoch 282/400\n",
            "22/22 [==============================] - 0s 2ms/step - loss: 711.3073\n",
            "Epoch 283/400\n",
            "22/22 [==============================] - 0s 2ms/step - loss: 701.7209\n",
            "Epoch 284/400\n",
            "22/22 [==============================] - 0s 2ms/step - loss: 691.5197\n",
            "Epoch 285/400\n",
            "22/22 [==============================] - 0s 3ms/step - loss: 681.7852\n",
            "Epoch 286/400\n",
            "22/22 [==============================] - 0s 2ms/step - loss: 671.4269\n",
            "Epoch 287/400\n",
            "22/22 [==============================] - 0s 2ms/step - loss: 661.5094\n",
            "Epoch 288/400\n",
            "22/22 [==============================] - 0s 3ms/step - loss: 651.8016\n",
            "Epoch 289/400\n",
            "22/22 [==============================] - 0s 4ms/step - loss: 642.1866\n",
            "Epoch 290/400\n",
            "22/22 [==============================] - 0s 2ms/step - loss: 632.3120\n",
            "Epoch 291/400\n",
            "22/22 [==============================] - 0s 3ms/step - loss: 622.7281\n",
            "Epoch 292/400\n",
            "22/22 [==============================] - 0s 2ms/step - loss: 612.9554\n",
            "Epoch 293/400\n",
            "22/22 [==============================] - 0s 2ms/step - loss: 604.1766\n",
            "Epoch 294/400\n",
            "22/22 [==============================] - 0s 3ms/step - loss: 593.5696\n",
            "Epoch 295/400\n",
            "22/22 [==============================] - 0s 2ms/step - loss: 584.0720\n",
            "Epoch 296/400\n",
            "22/22 [==============================] - 0s 2ms/step - loss: 576.1412\n",
            "Epoch 297/400\n",
            "22/22 [==============================] - 0s 3ms/step - loss: 565.5792\n",
            "Epoch 298/400\n",
            "22/22 [==============================] - 0s 2ms/step - loss: 556.1675\n",
            "Epoch 299/400\n",
            "22/22 [==============================] - 0s 2ms/step - loss: 546.8751\n",
            "Epoch 300/400\n",
            "22/22 [==============================] - 0s 2ms/step - loss: 537.9052\n",
            "Epoch 301/400\n",
            "22/22 [==============================] - 0s 2ms/step - loss: 530.3678\n",
            "Epoch 302/400\n",
            "22/22 [==============================] - 0s 2ms/step - loss: 519.4085\n",
            "Epoch 303/400\n",
            "22/22 [==============================] - 0s 2ms/step - loss: 510.4946\n",
            "Epoch 304/400\n",
            "22/22 [==============================] - 0s 2ms/step - loss: 501.5231\n",
            "Epoch 305/400\n",
            "22/22 [==============================] - 0s 2ms/step - loss: 493.2416\n",
            "Epoch 306/400\n",
            "22/22 [==============================] - 0s 3ms/step - loss: 484.1813\n",
            "Epoch 307/400\n",
            "22/22 [==============================] - 0s 3ms/step - loss: 475.4802\n",
            "Epoch 308/400\n",
            "22/22 [==============================] - 0s 3ms/step - loss: 466.9899\n",
            "Epoch 309/400\n",
            "22/22 [==============================] - 0s 2ms/step - loss: 458.7710\n",
            "Epoch 310/400\n",
            "22/22 [==============================] - 0s 2ms/step - loss: 449.7520\n",
            "Epoch 311/400\n",
            "22/22 [==============================] - 0s 2ms/step - loss: 441.5436\n",
            "Epoch 312/400\n",
            "22/22 [==============================] - 0s 3ms/step - loss: 432.9962\n",
            "Epoch 313/400\n",
            "22/22 [==============================] - 0s 2ms/step - loss: 425.4024\n",
            "Epoch 314/400\n",
            "22/22 [==============================] - 0s 2ms/step - loss: 416.9943\n",
            "Epoch 315/400\n",
            "22/22 [==============================] - 0s 2ms/step - loss: 409.8342\n",
            "Epoch 316/400\n",
            "22/22 [==============================] - 0s 2ms/step - loss: 401.1143\n",
            "Epoch 317/400\n",
            "22/22 [==============================] - 0s 2ms/step - loss: 392.8860\n",
            "Epoch 318/400\n",
            "22/22 [==============================] - 0s 2ms/step - loss: 384.9964\n",
            "Epoch 319/400\n",
            "22/22 [==============================] - 0s 2ms/step - loss: 377.2430\n",
            "Epoch 320/400\n",
            "22/22 [==============================] - 0s 3ms/step - loss: 369.8556\n",
            "Epoch 321/400\n",
            "22/22 [==============================] - 0s 2ms/step - loss: 362.3526\n",
            "Epoch 322/400\n",
            "22/22 [==============================] - 0s 2ms/step - loss: 354.8839\n",
            "Epoch 323/400\n",
            "22/22 [==============================] - 0s 2ms/step - loss: 347.6181\n",
            "Epoch 324/400\n",
            "22/22 [==============================] - 0s 2ms/step - loss: 340.3093\n",
            "Epoch 325/400\n",
            "22/22 [==============================] - 0s 3ms/step - loss: 333.5122\n",
            "Epoch 326/400\n",
            "22/22 [==============================] - 0s 2ms/step - loss: 325.7188\n",
            "Epoch 327/400\n",
            "22/22 [==============================] - 0s 2ms/step - loss: 318.8615\n",
            "Epoch 328/400\n",
            "22/22 [==============================] - 0s 2ms/step - loss: 311.4515\n",
            "Epoch 329/400\n",
            "22/22 [==============================] - 0s 2ms/step - loss: 304.7606\n",
            "Epoch 330/400\n",
            "22/22 [==============================] - 0s 2ms/step - loss: 298.2801\n",
            "Epoch 331/400\n",
            "22/22 [==============================] - 0s 2ms/step - loss: 292.0935\n",
            "Epoch 332/400\n",
            "22/22 [==============================] - 0s 2ms/step - loss: 284.6141\n",
            "Epoch 333/400\n",
            "22/22 [==============================] - 0s 2ms/step - loss: 279.4372\n",
            "Epoch 334/400\n",
            "22/22 [==============================] - 0s 2ms/step - loss: 271.8383\n",
            "Epoch 335/400\n",
            "22/22 [==============================] - 0s 2ms/step - loss: 266.0363\n",
            "Epoch 336/400\n",
            "22/22 [==============================] - 0s 2ms/step - loss: 258.9255\n",
            "Epoch 337/400\n",
            "22/22 [==============================] - 0s 2ms/step - loss: 253.6974\n",
            "Epoch 338/400\n",
            "22/22 [==============================] - 0s 3ms/step - loss: 247.0012\n",
            "Epoch 339/400\n",
            "22/22 [==============================] - 0s 2ms/step - loss: 241.3772\n",
            "Epoch 340/400\n",
            "22/22 [==============================] - 0s 2ms/step - loss: 235.1554\n",
            "Epoch 341/400\n",
            "22/22 [==============================] - 0s 2ms/step - loss: 229.7433\n",
            "Epoch 342/400\n",
            "22/22 [==============================] - 0s 3ms/step - loss: 223.8745\n",
            "Epoch 343/400\n",
            "22/22 [==============================] - 0s 2ms/step - loss: 219.3667\n",
            "Epoch 344/400\n",
            "22/22 [==============================] - 0s 2ms/step - loss: 213.9556\n",
            "Epoch 345/400\n",
            "22/22 [==============================] - 0s 2ms/step - loss: 208.1367\n",
            "Epoch 346/400\n",
            "22/22 [==============================] - 0s 2ms/step - loss: 202.4433\n",
            "Epoch 347/400\n",
            "22/22 [==============================] - 0s 2ms/step - loss: 196.9139\n",
            "Epoch 348/400\n",
            "22/22 [==============================] - 0s 2ms/step - loss: 191.8783\n",
            "Epoch 349/400\n",
            "22/22 [==============================] - 0s 2ms/step - loss: 186.9996\n",
            "Epoch 350/400\n",
            "22/22 [==============================] - 0s 2ms/step - loss: 182.2518\n",
            "Epoch 351/400\n",
            "22/22 [==============================] - 0s 2ms/step - loss: 177.4136\n",
            "Epoch 352/400\n",
            "22/22 [==============================] - 0s 2ms/step - loss: 172.5597\n",
            "Epoch 353/400\n",
            "22/22 [==============================] - 0s 2ms/step - loss: 167.8510\n",
            "Epoch 354/400\n",
            "22/22 [==============================] - 0s 2ms/step - loss: 164.0668\n",
            "Epoch 355/400\n",
            "22/22 [==============================] - 0s 2ms/step - loss: 159.3687\n",
            "Epoch 356/400\n",
            "22/22 [==============================] - 0s 2ms/step - loss: 154.8161\n",
            "Epoch 357/400\n",
            "22/22 [==============================] - 0s 2ms/step - loss: 150.7980\n",
            "Epoch 358/400\n",
            "22/22 [==============================] - 0s 2ms/step - loss: 146.5222\n",
            "Epoch 359/400\n",
            "22/22 [==============================] - 0s 2ms/step - loss: 142.3698\n",
            "Epoch 360/400\n",
            "22/22 [==============================] - 0s 2ms/step - loss: 138.4626\n",
            "Epoch 361/400\n",
            "22/22 [==============================] - 0s 2ms/step - loss: 134.3496\n",
            "Epoch 362/400\n",
            "22/22 [==============================] - 0s 2ms/step - loss: 130.5170\n",
            "Epoch 363/400\n",
            "22/22 [==============================] - 0s 2ms/step - loss: 126.8544\n",
            "Epoch 364/400\n",
            "22/22 [==============================] - 0s 2ms/step - loss: 123.2563\n",
            "Epoch 365/400\n",
            "22/22 [==============================] - 0s 2ms/step - loss: 119.7175\n",
            "Epoch 366/400\n",
            "22/22 [==============================] - 0s 2ms/step - loss: 116.5321\n",
            "Epoch 367/400\n",
            "22/22 [==============================] - 0s 2ms/step - loss: 113.0537\n",
            "Epoch 368/400\n",
            "22/22 [==============================] - 0s 2ms/step - loss: 109.7587\n",
            "Epoch 369/400\n",
            "22/22 [==============================] - 0s 2ms/step - loss: 106.7234\n",
            "Epoch 370/400\n",
            "22/22 [==============================] - 0s 2ms/step - loss: 103.8404\n",
            "Epoch 371/400\n",
            "22/22 [==============================] - 0s 2ms/step - loss: 101.2498\n",
            "Epoch 372/400\n",
            "22/22 [==============================] - 0s 2ms/step - loss: 97.6088\n",
            "Epoch 373/400\n",
            "22/22 [==============================] - 0s 2ms/step - loss: 94.9302\n",
            "Epoch 374/400\n",
            "22/22 [==============================] - 0s 2ms/step - loss: 92.0165\n",
            "Epoch 375/400\n",
            "22/22 [==============================] - 0s 2ms/step - loss: 89.5003\n",
            "Epoch 376/400\n",
            "22/22 [==============================] - 0s 2ms/step - loss: 86.7203\n",
            "Epoch 377/400\n",
            "22/22 [==============================] - 0s 2ms/step - loss: 84.5381\n",
            "Epoch 378/400\n",
            "22/22 [==============================] - 0s 2ms/step - loss: 81.7494\n",
            "Epoch 379/400\n",
            "22/22 [==============================] - 0s 3ms/step - loss: 79.4180\n",
            "Epoch 380/400\n",
            "22/22 [==============================] - 0s 2ms/step - loss: 77.3616\n",
            "Epoch 381/400\n",
            "22/22 [==============================] - 0s 2ms/step - loss: 75.6162\n",
            "Epoch 382/400\n",
            "22/22 [==============================] - 0s 3ms/step - loss: 72.7007\n",
            "Epoch 383/400\n",
            "22/22 [==============================] - 0s 2ms/step - loss: 70.5798\n",
            "Epoch 384/400\n",
            "22/22 [==============================] - 0s 2ms/step - loss: 68.5257\n",
            "Epoch 385/400\n",
            "22/22 [==============================] - 0s 2ms/step - loss: 66.6572\n",
            "Epoch 386/400\n",
            "22/22 [==============================] - 0s 2ms/step - loss: 65.0553\n",
            "Epoch 387/400\n",
            "22/22 [==============================] - 0s 2ms/step - loss: 63.3160\n",
            "Epoch 388/400\n",
            "22/22 [==============================] - 0s 2ms/step - loss: 61.5070\n",
            "Epoch 389/400\n",
            "22/22 [==============================] - 0s 3ms/step - loss: 59.5932\n",
            "Epoch 390/400\n",
            "22/22 [==============================] - 0s 2ms/step - loss: 58.0306\n",
            "Epoch 391/400\n",
            "22/22 [==============================] - 0s 2ms/step - loss: 56.3309\n",
            "Epoch 392/400\n",
            "22/22 [==============================] - 0s 3ms/step - loss: 54.8697\n",
            "Epoch 393/400\n",
            "22/22 [==============================] - 0s 2ms/step - loss: 53.6387\n",
            "Epoch 394/400\n",
            "22/22 [==============================] - 0s 2ms/step - loss: 51.9999\n",
            "Epoch 395/400\n",
            "22/22 [==============================] - 0s 2ms/step - loss: 50.7490\n",
            "Epoch 396/400\n",
            "22/22 [==============================] - 0s 4ms/step - loss: 49.4239\n",
            "Epoch 397/400\n",
            "22/22 [==============================] - 0s 3ms/step - loss: 48.1898\n",
            "Epoch 398/400\n",
            "22/22 [==============================] - 0s 2ms/step - loss: 46.8521\n",
            "Epoch 399/400\n",
            "22/22 [==============================] - 0s 2ms/step - loss: 45.8768\n",
            "Epoch 400/400\n",
            "22/22 [==============================] - 0s 2ms/step - loss: 44.8371\n"
          ]
        },
        {
          "output_type": "execute_result",
          "data": {
            "text/plain": [
              "<keras.callbacks.History at 0x7b2fd33750c0>"
            ]
          },
          "metadata": {},
          "execution_count": 96
        }
      ]
    },
    {
      "cell_type": "code",
      "source": [
        "#Grab losses and stick into a dataframe\n",
        "loss_df = pd.DataFrame(model.history.history)"
      ],
      "metadata": {
        "id": "QzGwchJe13sX"
      },
      "execution_count": null,
      "outputs": []
    },
    {
      "cell_type": "code",
      "source": [
        "#Plot out of the losses\n",
        "#I.E. show how the model continually improves until no more improvement is possible\n",
        "loss_df.plot()"
      ],
      "metadata": {
        "colab": {
          "base_uri": "https://localhost:8080/",
          "height": 447
        },
        "id": "zrAhBnKz2R-G",
        "outputId": "c246b51d-dffe-4225-f8b0-034720b2c479"
      },
      "execution_count": null,
      "outputs": [
        {
          "output_type": "execute_result",
          "data": {
            "text/plain": [
              "<Axes: >"
            ]
          },
          "metadata": {},
          "execution_count": 98
        },
        {
          "output_type": "display_data",
          "data": {
            "text/plain": [
              "<Figure size 640x480 with 1 Axes>"
            ],
            "image/png": "[encoded data removed]"
          },
          "metadata": {}
        }
      ]
    },
    {
      "cell_type": "code",
      "source": [
        "#Evaluate MSE for test vs training set\n",
        "training_score = model.evaluate(X_train,y_train,verbose=0)\n",
        "test_score = model.evaluate(X_test,y_test,verbose=0)"
      ],
      "metadata": {
        "id": "4GaIGlZj5QnM"
      },
      "execution_count": null,
      "outputs": []
    },
    {
      "cell_type": "code",
      "source": [
        "training_score"
      ],
      "metadata": {
        "colab": {
          "base_uri": "https://localhost:8080/"
        },
        "id": "ZU8_Me545XDS",
        "outputId": "4f915645-ef20-44a3-a83f-3e33420512ac"
      },
      "execution_count": null,
      "outputs": [
        {
          "output_type": "execute_result",
          "data": {
            "text/plain": [
              "44.003108978271484"
            ]
          },
          "metadata": {},
          "execution_count": 100
        }
      ]
    },
    {
      "cell_type": "code",
      "source": [
        "test_score"
      ],
      "metadata": {
        "colab": {
          "base_uri": "https://localhost:8080/"
        },
        "id": "pPk103ZEBqXL",
        "outputId": "bf4985e0-e6d4-4c37-c658-7c1e7ada7a04"
      },
      "execution_count": null,
      "outputs": [
        {
          "output_type": "execute_result",
          "data": {
            "text/plain": [
              "42.91973114013672"
            ]
          },
          "metadata": {},
          "execution_count": 101
        }
      ]
    },
    {
      "cell_type": "code",
      "source": [
        "test_predictions = model.predict(X_test)"
      ],
      "metadata": {
        "colab": {
          "base_uri": "https://localhost:8080/"
        },
        "id": "A_96MhwDB2sB",
        "outputId": "25e077fe-9ebe-4204-a973-7858593265c4"
      },
      "execution_count": null,
      "outputs": [
        {
          "output_type": "stream",
          "name": "stdout",
          "text": [
            "10/10 [==============================] - 0s 2ms/step\n"
          ]
        }
      ]
    },
    {
      "cell_type": "code",
      "source": [
        "#Put in a series\n",
        "test_predictions = pd.Series(test_predictions.reshape(300,))"
      ],
      "metadata": {
        "id": "Mpt9jLdvDwZL"
      },
      "execution_count": null,
      "outputs": []
    },
    {
      "cell_type": "code",
      "source": [
        "#Concatenate into one dataframe\n",
        "pred_df = pd.DataFrame(y_test,columns=['Test True Y'])\n",
        "pred_df = pd.concat([pred_df,test_predictions], axis=1)\n",
        "\n",
        "pred_df.columns = ['Test True Y', 'Model Predictions']"
      ],
      "metadata": {
        "id": "2iZYWzvCENTH"
      },
      "execution_count": null,
      "outputs": []
    },
    {
      "cell_type": "code",
      "source": [
        "#Compare Correlation of Test/Train\n",
        "sns.scatterplot(x='Test True Y', y='Model Predictions', data=pred_df)"
      ],
      "metadata": {
        "colab": {
          "base_uri": "https://localhost:8080/",
          "height": 466
        },
        "id": "dGYcbzTL42JP",
        "outputId": "9a8c2a84-93b9-42a9-b5d3-125cfed6cae8"
      },
      "execution_count": null,
      "outputs": [
        {
          "output_type": "execute_result",
          "data": {
            "text/plain": [
              "<Axes: xlabel='Test True Y', ylabel='Model Predictions'>"
            ]
          },
          "metadata": {},
          "execution_count": 106
        },
        {
          "output_type": "display_data",
          "data": {
            "text/plain": [
              "<Figure size 640x480 with 1 Axes>"
            ],
            "image/png": "[encoded data removed]"
          },
          "metadata": {}
        }
      ]
    },
    {
      "cell_type": "code",
      "source": [
        "from sklearn.metrics import mean_absolute_error, mean_squared_error"
      ],
      "metadata": {
        "id": "y_oXGMwM5-Vr"
      },
      "execution_count": null,
      "outputs": []
    },
    {
      "cell_type": "code",
      "source": [
        "mean_absolute_error(pred_df['Test True Y'], pred_df['Model Predictions'])\n",
        "                            #MSE"
      ],
      "metadata": {
        "colab": {
          "base_uri": "https://localhost:8080/"
        },
        "id": "2kT7Rl6x6MG8",
        "outputId": "b0ce60d4-294c-4989-d3e8-8731cd7eef4f"
      },
      "execution_count": null,
      "outputs": [
        {
          "output_type": "execute_result",
          "data": {
            "text/plain": [
              "5.341169133946529"
            ]
          },
          "metadata": {},
          "execution_count": 111
        }
      ]
    },
    {
      "cell_type": "code",
      "source": [
        "df.describe()\n"
      ],
      "metadata": {
        "colab": {
          "base_uri": "https://localhost:8080/",
          "height": 300
        },
        "id": "qc_WDKbj68Jb",
        "outputId": "d8e982d1-3465-41d7-d473-cd8c98e7648d"
      },
      "execution_count": null,
      "outputs": [
        {
          "output_type": "execute_result",
          "data": {
            "text/plain": [
              "             price     feature1     feature2\n",
              "count  1000.000000  1000.000000  1000.000000\n",
              "mean    498.673029  1000.014171   999.979847\n",
              "std      93.785431     0.974018     0.948330\n",
              "min     223.346793   997.058347   996.995651\n",
              "25%     433.025732   999.332068   999.316106\n",
              "50%     502.382117  1000.009915  1000.002243\n",
              "75%     564.921588  1000.637580  1000.645380\n",
              "max     774.407854  1003.207934  1002.666308"
            ],
            "text/html": [
              "\n",
              "\n",
              "  <div id=\"df-f88ba690-8a2d-4150-b3a7-6d0126a1c2e3\">\n",
              "    <div class=\"colab-df-container\">\n",
              "      <div>\n",
              "<style scoped>\n",
              "    .dataframe tbody tr th:only-of-type {\n",
              "        vertical-align: middle;\n",
              "    }\n",
              "\n",
              "    .dataframe tbody tr th {\n",
              "        vertical-align: top;\n",
              "    }\n",
              "\n",
              "    .dataframe thead th {\n",
              "        text-align: right;\n",
              "    }\n",
              "</style>\n",
              "<table border=\"1\" class=\"dataframe\">\n",
              "  <thead>\n",
              "    <tr style=\"text-align: right;\">\n",
              "      <th></th>\n",
              "      <th>price</th>\n",
              "      <th>feature1</th>\n",
              "      <th>feature2</th>\n",
              "    </tr>\n",
              "  </thead>\n",
              "  <tbody>\n",
              "    <tr>\n",
              "      <th>count</th>\n",
              "      <td>1000.000000</td>\n",
              "      <td>1000.000000</td>\n",
              "      <td>1000.000000</td>\n",
              "    </tr>\n",
              "    <tr>\n",
              "      <th>mean</th>\n",
              "      <td>498.673029</td>\n",
              "      <td>1000.014171</td>\n",
              "      <td>999.979847</td>\n",
              "    </tr>\n",
              "    <tr>\n",
              "      <th>std</th>\n",
              "      <td>93.785431</td>\n",
              "      <td>0.974018</td>\n",
              "      <td>0.948330</td>\n",
              "    </tr>\n",
              "    <tr>\n",
              "      <th>min</th>\n",
              "      <td>223.346793</td>\n",
              "      <td>997.058347</td>\n",
              "      <td>996.995651</td>\n",
              "    </tr>\n",
              "    <tr>\n",
              "      <th>25%</th>\n",
              "      <td>433.025732</td>\n",
              "      <td>999.332068</td>\n",
              "      <td>999.316106</td>\n",
              "    </tr>\n",
              "    <tr>\n",
              "      <th>50%</th>\n",
              "      <td>502.382117</td>\n",
              "      <td>1000.009915</td>\n",
              "      <td>1000.002243</td>\n",
              "    </tr>\n",
              "    <tr>\n",
              "      <th>75%</th>\n",
              "      <td>564.921588</td>\n",
              "      <td>1000.637580</td>\n",
              "      <td>1000.645380</td>\n",
              "    </tr>\n",
              "    <tr>\n",
              "      <th>max</th>\n",
              "      <td>774.407854</td>\n",
              "      <td>1003.207934</td>\n",
              "      <td>1002.666308</td>\n",
              "    </tr>\n",
              "  </tbody>\n",
              "</table>\n",
              "</div>\n",
              "      <button class=\"colab-df-convert\" onclick=\"convertToInteractive('df-f88ba690-8a2d-4150-b3a7-6d0126a1c2e3')\"\n",
              "              title=\"Convert this dataframe to an interactive table.\"\n",
              "              style=\"display:none;\">\n",
              "\n",
              "  <svg xmlns=\"http://www.w3.org/2000/svg\" height=\"24px\"viewBox=\"0 0 24 24\"\n",
              "       width=\"24px\">\n",
              "    <path d=\"M0 0h24v24H0V0z\" fill=\"none\"/>\n",
              "    <path d=\"M18.56 5.44l.94 2.06.94-2.06 2.06-.94-2.06-.94-.94-2.06-.94 2.06-2.06.94zm-11 1L8.5 8.5l.94-2.06 2.06-.94-2.06-.94L8.5 2.5l-.94 2.06-2.06.94zm10 10l.94 2.06.94-2.06 2.06-.94-2.06-.94-.94-2.06-.94 2.06-2.06.94z\"/><path d=\"M17.41 7.96l-1.37-1.37c-.4-.4-.92-.59-1.43-.59-.52 0-1.04.2-1.43.59L10.3 9.45l-7.72 7.72c-.78.78-.78 2.05 0 2.83L4 21.41c.39.39.9.59 1.41.59.51 0 1.02-.2 1.41-.59l7.78-7.78 2.81-2.81c.8-.78.8-2.07 0-2.86zM5.41 20L4 18.59l7.72-7.72 1.47 1.35L5.41 20z\"/>\n",
              "  </svg>\n",
              "      </button>\n",
              "\n",
              "\n",
              "\n",
              "    <div id=\"df-dd4658bb-1182-40f2-838d-47738d7e0fc1\">\n",
              "      <button class=\"colab-df-quickchart\" onclick=\"quickchart('df-dd4658bb-1182-40f2-838d-47738d7e0fc1')\"\n",
              "              title=\"Suggest charts.\"\n",
              "              style=\"display:none;\">\n",
              "\n",
              "<svg xmlns=\"http://www.w3.org/2000/svg\" height=\"24px\"viewBox=\"0 0 24 24\"\n",
              "     width=\"24px\">\n",
              "    <g>\n",
              "        <path d=\"M19 3H5c-1.1 0-2 .9-2 2v14c0 1.1.9 2 2 2h14c1.1 0 2-.9 2-2V5c0-1.1-.9-2-2-2zM9 17H7v-7h2v7zm4 0h-2V7h2v10zm4 0h-2v-4h2v4z\"/>\n",
              "    </g>\n",
              "</svg>\n",
              "      </button>\n",
              "    </div>\n",
              "\n",
              "<style>\n",
              "  .colab-df-quickchart {\n",
              "    background-color: #E8F0FE;\n",
              "    border: none;\n",
              "    border-radius: 50%;\n",
              "    cursor: pointer;\n",
              "    display: none;\n",
              "    fill: #1967D2;\n",
              "    height: 32px;\n",
              "    padding: 0 0 0 0;\n",
              "    width: 32px;\n",
              "  }\n",
              "\n",
              "  .colab-df-quickchart:hover {\n",
              "    background-color: #E2EBFA;\n",
              "    box-shadow: 0px 1px 2px rgba(60, 64, 67, 0.3), 0px 1px 3px 1px rgba(60, 64, 67, 0.15);\n",
              "    fill: #174EA6;\n",
              "  }\n",
              "\n",
              "  [theme=dark] .colab-df-quickchart {\n",
              "    background-color: #3B4455;\n",
              "    fill: #D2E3FC;\n",
              "  }\n",
              "\n",
              "  [theme=dark] .colab-df-quickchart:hover {\n",
              "    background-color: #434B5C;\n",
              "    box-shadow: 0px 1px 3px 1px rgba(0, 0, 0, 0.15);\n",
              "    filter: drop-shadow(0px 1px 2px rgba(0, 0, 0, 0.3));\n",
              "    fill: #FFFFFF;\n",
              "  }\n",
              "</style>\n",
              "\n",
              "    <script>\n",
              "      async function quickchart(key) {\n",
              "        const containerElement = document.querySelector('#' + key);\n",
              "        const charts = await google.colab.kernel.invokeFunction(\n",
              "            'suggestCharts', [key], {});\n",
              "      }\n",
              "    </script>\n",
              "\n",
              "      <script>\n",
              "\n",
              "function displayQuickchartButton(domScope) {\n",
              "  let quickchartButtonEl =\n",
              "    domScope.querySelector('#df-dd4658bb-1182-40f2-838d-47738d7e0fc1 button.colab-df-quickchart');\n",
              "  quickchartButtonEl.style.display =\n",
              "    google.colab.kernel.accessAllowed ? 'block' : 'none';\n",
              "}\n",
              "\n",
              "        displayQuickchartButton(document);\n",
              "      </script>\n",
              "      <style>\n",
              "    .colab-df-container {\n",
              "      display:flex;\n",
              "      flex-wrap:wrap;\n",
              "      gap: 12px;\n",
              "    }\n",
              "\n",
              "    .colab-df-convert {\n",
              "      background-color: #E8F0FE;\n",
              "      border: none;\n",
              "      border-radius: 50%;\n",
              "      cursor: pointer;\n",
              "      display: none;\n",
              "      fill: #1967D2;\n",
              "      height: 32px;\n",
              "      padding: 0 0 0 0;\n",
              "      width: 32px;\n",
              "    }\n",
              "\n",
              "    .colab-df-convert:hover {\n",
              "      background-color: #E2EBFA;\n",
              "      box-shadow: 0px 1px 2px rgba(60, 64, 67, 0.3), 0px 1px 3px 1px rgba(60, 64, 67, 0.15);\n",
              "      fill: #174EA6;\n",
              "    }\n",
              "\n",
              "    [theme=dark] .colab-df-convert {\n",
              "      background-color: #3B4455;\n",
              "      fill: #D2E3FC;\n",
              "    }\n",
              "\n",
              "    [theme=dark] .colab-df-convert:hover {\n",
              "      background-color: #434B5C;\n",
              "      box-shadow: 0px 1px 3px 1px rgba(0, 0, 0, 0.15);\n",
              "      filter: drop-shadow(0px 1px 2px rgba(0, 0, 0, 0.3));\n",
              "      fill: #FFFFFF;\n",
              "    }\n",
              "  </style>\n",
              "\n",
              "      <script>\n",
              "        const buttonEl =\n",
              "          document.querySelector('#df-f88ba690-8a2d-4150-b3a7-6d0126a1c2e3 button.colab-df-convert');\n",
              "        buttonEl.style.display =\n",
              "          google.colab.kernel.accessAllowed ? 'block' : 'none';\n",
              "\n",
              "        async function convertToInteractive(key) {\n",
              "          const element = document.querySelector('#df-f88ba690-8a2d-4150-b3a7-6d0126a1c2e3');\n",
              "          const dataTable =\n",
              "            await google.colab.kernel.invokeFunction('convertToInteractive',\n",
              "                                                     [key], {});\n",
              "          if (!dataTable) return;\n",
              "\n",
              "          const docLinkHtml = 'Like what you see? Visit the ' +\n",
              "            '<a target=\"_blank\" href=https://colab.research.google.com/notebooks/data_table.ipynb>data table notebook</a>'\n",
              "            + ' to learn more about interactive tables.';\n",
              "          element.innerHTML = '';\n",
              "          dataTable['output_type'] = 'display_data';\n",
              "          await google.colab.output.renderOutput(dataTable, element);\n",
              "          const docLink = document.createElement('div');\n",
              "          docLink.innerHTML = docLinkHtml;\n",
              "          element.appendChild(docLink);\n",
              "        }\n",
              "      </script>\n",
              "    </div>\n",
              "  </div>\n"
            ]
          },
          "metadata": {},
          "execution_count": 113
        }
      ]
    },
    {
      "cell_type": "code",
      "source": [
        "mean_squared_error(pred_df['Test True Y'], pred_df['Model Predictions'])**0.5"
      ],
      "metadata": {
        "colab": {
          "base_uri": "https://localhost:8080/"
        },
        "id": "Zq6bw0EJ8MjC",
        "outputId": "8ef6cf5c-64b9-4b70-eeb6-49e278476b3a"
      },
      "execution_count": null,
      "outputs": [
        {
          "output_type": "execute_result",
          "data": {
            "text/plain": [
              "6.551315412033811"
            ]
          },
          "metadata": {},
          "execution_count": 114
        }
      ]
    },
    {
      "cell_type": "code",
      "source": [
        "new_gem = [[998, 1000]]"
      ],
      "metadata": {
        "id": "0-Vy_GtA85aH"
      },
      "execution_count": null,
      "outputs": []
    },
    {
      "cell_type": "code",
      "source": [
        " new_gem = scaler.transform(new_gem)"
      ],
      "metadata": {
        "id": "hpIy4yyL9Kvr"
      },
      "execution_count": null,
      "outputs": []
    },
    {
      "cell_type": "code",
      "source": [
        "model.predict(new_gem)"
      ],
      "metadata": {
        "colab": {
          "base_uri": "https://localhost:8080/"
        },
        "id": "O_MZkgq99VEF",
        "outputId": "71138a45-2f57-4891-8f97-8dacf12da106"
      },
      "execution_count": null,
      "outputs": [
        {
          "output_type": "stream",
          "name": "stdout",
          "text": [
            "1/1 [==============================] - 0s 59ms/step\n"
          ]
        },
        {
          "output_type": "execute_result",
          "data": {
            "text/plain": [
              "array([[423.953]], dtype=float32)"
            ]
          },
          "metadata": {},
          "execution_count": 118
        }
      ]
    },
    {
      "cell_type": "code",
      "source": [
        "from tensorflow.keras.models import load_model"
      ],
      "metadata": {
        "id": "lO-dpBVu9dov"
      },
      "execution_count": null,
      "outputs": []
    },
    {
      "cell_type": "code",
      "source": [
        "model.save('my_gem_model.h5')"
      ],
      "metadata": {
        "id": "tY8ApDts9oJJ"
      },
      "execution_count": null,
      "outputs": []
    },
    {
      "cell_type": "code",
      "source": [
        "later_model = load_model('my_gem_model.h5')"
      ],
      "metadata": {
        "id": "tfeKFaam9vJg"
      },
      "execution_count": null,
      "outputs": []
    },
    {
      "cell_type": "code",
      "source": [
        "later_model.predict(new_gem)"
      ],
      "metadata": {
        "colab": {
          "base_uri": "https://localhost:8080/"
        },
        "id": "O1rW98sp92Pv",
        "outputId": "5a4be35e-3283-4de4-aa07-83ba092b9f0b"
      },
      "execution_count": null,
      "outputs": [
        {
          "output_type": "stream",
          "name": "stdout",
          "text": [
            "1/1 [==============================] - 0s 99ms/step\n"
          ]
        },
        {
          "output_type": "execute_result",
          "data": {
            "text/plain": [
              "array([[423.953]], dtype=float32)"
            ]
          },
          "metadata": {},
          "execution_count": 122
        }
      ]
    },
    {
      "cell_type": "code",
      "source": [],
      "metadata": {
        "id": "8fYSAFgH99RZ"
      },
      "execution_count": null,
      "outputs": []
    }
  ]
}